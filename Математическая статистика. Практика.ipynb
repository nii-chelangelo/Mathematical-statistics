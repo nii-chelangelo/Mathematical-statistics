{
 "cells": [
  {
   "cell_type": "markdown",
   "id": "f0901fcc",
   "metadata": {},
   "source": [
    "# «Математическая статистика»"
   ]
  },
  {
   "cell_type": "markdown",
   "id": "bf09a9b7",
   "metadata": {},
   "source": [
    "![С НГ!](https://drive.google.com/uc?export=view&id=1sa6zoe4TanBm7PvnDT5uHueIAmmQ4Bts)"
   ]
  },
  {
   "cell_type": "markdown",
   "id": "684a1d9e",
   "metadata": {},
   "source": [
    "### Импорт модулей и библиотек"
   ]
  },
  {
   "cell_type": "code",
   "execution_count": 1,
   "id": "1fbd30e5",
   "metadata": {},
   "outputs": [],
   "source": [
    "import numpy as np\n",
    "import matplotlib.pyplot as plt \n",
    "import pandas as pd\n",
    "import math\n",
    "import statistics\n",
    "import scipy\n",
    "from scipy import stats"
   ]
  },
  {
   "cell_type": "markdown",
   "id": "ffe01a18",
   "metadata": {},
   "source": [
    "### № 1\n",
    "\n",
    "В результате эксперимента получены статистические данные, представленные в виде статистического ряда.\n"
   ]
  },
  {
   "cell_type": "markdown",
   "id": "39c21ac7",
   "metadata": {},
   "source": [
    "###### Получу статистический ряд"
   ]
  },
  {
   "cell_type": "markdown",
   "id": "2167f7f9",
   "metadata": {},
   "source": [
    "![](https://drive.google.com/uc?export=view&id=18LFQCl5AYmw1R4mjEzP9CzBmQfiuTXq4)"
   ]
  },
  {
   "cell_type": "code",
   "execution_count": 2,
   "id": "31cc24ec",
   "metadata": {},
   "outputs": [
    {
     "data": {
      "text/plain": [
       "100"
      ]
     },
     "execution_count": 2,
     "metadata": {},
     "output_type": "execute_result"
    }
   ],
   "source": [
    "row = [70, 95, 75, 85, 60, 77, 55, 63, 80, 67,\n",
    "       90, 78, 57, 76, 84, 82, 75, 68, 73, 62, \n",
    "       62, 81, 77, 72, 97, 68, 85, 56, 92, 71,\n",
    "       73, 78, 98, 63, 83, 85, 70, 90, 66, 91, \n",
    "       86, 68, 55, 93, 71, 96, 77, 81, 86, 72,\n",
    "       82, 62, 70, 78, 67, 87, 91, 99, 78, 87, \n",
    "       91, 58, 81, 97, 75, 83, 71, 66, 61, 76,\n",
    "       73, 85, 65, 90, 86, 61, 54, 75, 78, 93,\n",
    "       87, 58, 72, 92, 66, 98, 65, 81, 76, 63,\n",
    "       95, 83, 65, 57, 80, 87, 61, 92, 56, 71]\n",
    "len(row)"
   ]
  },
  {
   "cell_type": "markdown",
   "id": "6c00a197",
   "metadata": {},
   "source": [
    "###### Запишу значения результатов эксперимента в виде вариационного ряда;\n",
    "\n",
    "*Дискретный вариационный ряд – это упорядоченное по возрастанию (как правило) множество значений величины X и соответствующих им частот либо относительных частот*"
   ]
  },
  {
   "cell_type": "code",
   "execution_count": 3,
   "id": "aa135b84",
   "metadata": {},
   "outputs": [
    {
     "name": "stdout",
     "output_type": "stream",
     "text": [
      "1.0000000000000004\n",
      "Вариационный ряд: \n"
     ]
    },
    {
     "data": {
      "text/html": [
       "<div>\n",
       "<style scoped>\n",
       "    .dataframe tbody tr th:only-of-type {\n",
       "        vertical-align: middle;\n",
       "    }\n",
       "\n",
       "    .dataframe tbody tr th {\n",
       "        vertical-align: top;\n",
       "    }\n",
       "\n",
       "    .dataframe thead th {\n",
       "        text-align: right;\n",
       "    }\n",
       "</style>\n",
       "<table border=\"1\" class=\"dataframe\">\n",
       "  <thead>\n",
       "    <tr style=\"text-align: right;\">\n",
       "      <th></th>\n",
       "      <th>x</th>\n",
       "      <th>n</th>\n",
       "      <th>w</th>\n",
       "    </tr>\n",
       "  </thead>\n",
       "  <tbody>\n",
       "    <tr>\n",
       "      <th>0</th>\n",
       "      <td>54</td>\n",
       "      <td>1</td>\n",
       "      <td>0.01</td>\n",
       "    </tr>\n",
       "    <tr>\n",
       "      <th>1</th>\n",
       "      <td>55</td>\n",
       "      <td>2</td>\n",
       "      <td>0.02</td>\n",
       "    </tr>\n",
       "    <tr>\n",
       "      <th>2</th>\n",
       "      <td>56</td>\n",
       "      <td>2</td>\n",
       "      <td>0.02</td>\n",
       "    </tr>\n",
       "    <tr>\n",
       "      <th>3</th>\n",
       "      <td>57</td>\n",
       "      <td>2</td>\n",
       "      <td>0.02</td>\n",
       "    </tr>\n",
       "    <tr>\n",
       "      <th>4</th>\n",
       "      <td>58</td>\n",
       "      <td>2</td>\n",
       "      <td>0.02</td>\n",
       "    </tr>\n",
       "    <tr>\n",
       "      <th>5</th>\n",
       "      <td>60</td>\n",
       "      <td>1</td>\n",
       "      <td>0.01</td>\n",
       "    </tr>\n",
       "    <tr>\n",
       "      <th>6</th>\n",
       "      <td>61</td>\n",
       "      <td>3</td>\n",
       "      <td>0.03</td>\n",
       "    </tr>\n",
       "    <tr>\n",
       "      <th>7</th>\n",
       "      <td>62</td>\n",
       "      <td>3</td>\n",
       "      <td>0.03</td>\n",
       "    </tr>\n",
       "    <tr>\n",
       "      <th>8</th>\n",
       "      <td>63</td>\n",
       "      <td>3</td>\n",
       "      <td>0.03</td>\n",
       "    </tr>\n",
       "    <tr>\n",
       "      <th>9</th>\n",
       "      <td>65</td>\n",
       "      <td>3</td>\n",
       "      <td>0.03</td>\n",
       "    </tr>\n",
       "    <tr>\n",
       "      <th>10</th>\n",
       "      <td>66</td>\n",
       "      <td>3</td>\n",
       "      <td>0.03</td>\n",
       "    </tr>\n",
       "    <tr>\n",
       "      <th>11</th>\n",
       "      <td>67</td>\n",
       "      <td>2</td>\n",
       "      <td>0.02</td>\n",
       "    </tr>\n",
       "    <tr>\n",
       "      <th>12</th>\n",
       "      <td>68</td>\n",
       "      <td>3</td>\n",
       "      <td>0.03</td>\n",
       "    </tr>\n",
       "    <tr>\n",
       "      <th>13</th>\n",
       "      <td>70</td>\n",
       "      <td>3</td>\n",
       "      <td>0.03</td>\n",
       "    </tr>\n",
       "    <tr>\n",
       "      <th>14</th>\n",
       "      <td>71</td>\n",
       "      <td>4</td>\n",
       "      <td>0.04</td>\n",
       "    </tr>\n",
       "    <tr>\n",
       "      <th>15</th>\n",
       "      <td>72</td>\n",
       "      <td>3</td>\n",
       "      <td>0.03</td>\n",
       "    </tr>\n",
       "    <tr>\n",
       "      <th>16</th>\n",
       "      <td>73</td>\n",
       "      <td>3</td>\n",
       "      <td>0.03</td>\n",
       "    </tr>\n",
       "    <tr>\n",
       "      <th>17</th>\n",
       "      <td>75</td>\n",
       "      <td>4</td>\n",
       "      <td>0.04</td>\n",
       "    </tr>\n",
       "    <tr>\n",
       "      <th>18</th>\n",
       "      <td>76</td>\n",
       "      <td>3</td>\n",
       "      <td>0.03</td>\n",
       "    </tr>\n",
       "    <tr>\n",
       "      <th>19</th>\n",
       "      <td>77</td>\n",
       "      <td>3</td>\n",
       "      <td>0.03</td>\n",
       "    </tr>\n",
       "    <tr>\n",
       "      <th>20</th>\n",
       "      <td>78</td>\n",
       "      <td>5</td>\n",
       "      <td>0.05</td>\n",
       "    </tr>\n",
       "    <tr>\n",
       "      <th>21</th>\n",
       "      <td>80</td>\n",
       "      <td>2</td>\n",
       "      <td>0.02</td>\n",
       "    </tr>\n",
       "    <tr>\n",
       "      <th>22</th>\n",
       "      <td>81</td>\n",
       "      <td>4</td>\n",
       "      <td>0.04</td>\n",
       "    </tr>\n",
       "    <tr>\n",
       "      <th>23</th>\n",
       "      <td>82</td>\n",
       "      <td>2</td>\n",
       "      <td>0.02</td>\n",
       "    </tr>\n",
       "    <tr>\n",
       "      <th>24</th>\n",
       "      <td>83</td>\n",
       "      <td>3</td>\n",
       "      <td>0.03</td>\n",
       "    </tr>\n",
       "    <tr>\n",
       "      <th>25</th>\n",
       "      <td>84</td>\n",
       "      <td>1</td>\n",
       "      <td>0.01</td>\n",
       "    </tr>\n",
       "    <tr>\n",
       "      <th>26</th>\n",
       "      <td>85</td>\n",
       "      <td>4</td>\n",
       "      <td>0.04</td>\n",
       "    </tr>\n",
       "    <tr>\n",
       "      <th>27</th>\n",
       "      <td>86</td>\n",
       "      <td>3</td>\n",
       "      <td>0.03</td>\n",
       "    </tr>\n",
       "    <tr>\n",
       "      <th>28</th>\n",
       "      <td>87</td>\n",
       "      <td>4</td>\n",
       "      <td>0.04</td>\n",
       "    </tr>\n",
       "    <tr>\n",
       "      <th>29</th>\n",
       "      <td>90</td>\n",
       "      <td>3</td>\n",
       "      <td>0.03</td>\n",
       "    </tr>\n",
       "    <tr>\n",
       "      <th>30</th>\n",
       "      <td>91</td>\n",
       "      <td>3</td>\n",
       "      <td>0.03</td>\n",
       "    </tr>\n",
       "    <tr>\n",
       "      <th>31</th>\n",
       "      <td>92</td>\n",
       "      <td>3</td>\n",
       "      <td>0.03</td>\n",
       "    </tr>\n",
       "    <tr>\n",
       "      <th>32</th>\n",
       "      <td>93</td>\n",
       "      <td>2</td>\n",
       "      <td>0.02</td>\n",
       "    </tr>\n",
       "    <tr>\n",
       "      <th>33</th>\n",
       "      <td>95</td>\n",
       "      <td>2</td>\n",
       "      <td>0.02</td>\n",
       "    </tr>\n",
       "    <tr>\n",
       "      <th>34</th>\n",
       "      <td>96</td>\n",
       "      <td>1</td>\n",
       "      <td>0.01</td>\n",
       "    </tr>\n",
       "    <tr>\n",
       "      <th>35</th>\n",
       "      <td>97</td>\n",
       "      <td>2</td>\n",
       "      <td>0.02</td>\n",
       "    </tr>\n",
       "    <tr>\n",
       "      <th>36</th>\n",
       "      <td>98</td>\n",
       "      <td>2</td>\n",
       "      <td>0.02</td>\n",
       "    </tr>\n",
       "    <tr>\n",
       "      <th>37</th>\n",
       "      <td>99</td>\n",
       "      <td>1</td>\n",
       "      <td>0.01</td>\n",
       "    </tr>\n",
       "  </tbody>\n",
       "</table>\n",
       "</div>"
      ],
      "text/plain": [
       "     x  n     w\n",
       "0   54  1  0.01\n",
       "1   55  2  0.02\n",
       "2   56  2  0.02\n",
       "3   57  2  0.02\n",
       "4   58  2  0.02\n",
       "5   60  1  0.01\n",
       "6   61  3  0.03\n",
       "7   62  3  0.03\n",
       "8   63  3  0.03\n",
       "9   65  3  0.03\n",
       "10  66  3  0.03\n",
       "11  67  2  0.02\n",
       "12  68  3  0.03\n",
       "13  70  3  0.03\n",
       "14  71  4  0.04\n",
       "15  72  3  0.03\n",
       "16  73  3  0.03\n",
       "17  75  4  0.04\n",
       "18  76  3  0.03\n",
       "19  77  3  0.03\n",
       "20  78  5  0.05\n",
       "21  80  2  0.02\n",
       "22  81  4  0.04\n",
       "23  82  2  0.02\n",
       "24  83  3  0.03\n",
       "25  84  1  0.01\n",
       "26  85  4  0.04\n",
       "27  86  3  0.03\n",
       "28  87  4  0.04\n",
       "29  90  3  0.03\n",
       "30  91  3  0.03\n",
       "31  92  3  0.03\n",
       "32  93  2  0.02\n",
       "33  95  2  0.02\n",
       "34  96  1  0.01\n",
       "35  97  2  0.02\n",
       "36  98  2  0.02\n",
       "37  99  1  0.01"
      ]
     },
     "execution_count": 3,
     "metadata": {},
     "output_type": "execute_result"
    }
   ],
   "source": [
    "values = list(set(row)) #сортирую значения по возрастанию при помощи структуры данных \"множество\"\n",
    "frequency = [row.count(el) for el in values] #нахожу частоту значений \n",
    "len(frequency) == len(values) # True\n",
    "var_row = pd.DataFrame({'x':list(values), 'n':frequency})\n",
    "\n",
    "relative_frequency = np.array(frequency)/len(row)\n",
    "print(sum(relative_frequency))\n",
    "\n",
    "#Добавлю относительную частоту в вариационный ряд\n",
    "var_row['w'] = relative_frequency\n",
    "\n",
    "print(\"Вариационный ряд: \") \n",
    "var_row "
   ]
  },
  {
   "cell_type": "markdown",
   "id": "ccdb3edb",
   "metadata": {},
   "source": [
    "##### Найду размах варьирования и разобью ряд на 9 интервалов;"
   ]
  },
  {
   "cell_type": "code",
   "execution_count": 4,
   "id": "b6d9256f",
   "metadata": {},
   "outputs": [
    {
     "name": "stdout",
     "output_type": "stream",
     "text": [
      "Размах = 45 \n",
      "Длина частичного интервала равна 5\n",
      "Интервалы:\n",
      " [[54. 59.]\n",
      " [59. 64.]\n",
      " [64. 69.]\n",
      " [69. 74.]\n",
      " [74. 79.]\n",
      " [79. 84.]\n",
      " [84. 89.]\n",
      " [89. 94.]\n",
      " [94. 99.]]\n"
     ]
    }
   ],
   "source": [
    "val_range = max(values) - min(values) #размах варьирования\n",
    "\n",
    "# Воспользуюсь формулой Стерджесса 𝒌=[𝟏+𝐥𝐨𝐠𝟐𝒏]≈[𝟏+𝟑,𝟑𝟐𝟐∙𝒍𝒈𝒏], чтобы найти оптимальное количество интервалов\n",
    "k = round(1+3.322*math.log(len(row)))\n",
    "k == 9 #False, значит, количество не совпало, произведу разбиение по условию задачи\n",
    "k = 9\n",
    "\n",
    "h = int(val_range/k) # длина частичного интервала\n",
    "points = np.linspace(min(values), max(values), num=k+1)\n",
    "intervals = np.array([points[:-1], points[1:]]).transpose()\n",
    "print(f'Размах = {val_range} \\nДлина частичного интервала равна {h}\\nИнтервалы:\\n {intervals}')"
   ]
  },
  {
   "cell_type": "code",
   "execution_count": 5,
   "id": "8c14f200",
   "metadata": {},
   "outputs": [
    {
     "data": {
      "text/html": [
       "<div>\n",
       "<style scoped>\n",
       "    .dataframe tbody tr th:only-of-type {\n",
       "        vertical-align: middle;\n",
       "    }\n",
       "\n",
       "    .dataframe tbody tr th {\n",
       "        vertical-align: top;\n",
       "    }\n",
       "\n",
       "    .dataframe thead th {\n",
       "        text-align: right;\n",
       "    }\n",
       "</style>\n",
       "<table border=\"1\" class=\"dataframe\">\n",
       "  <thead>\n",
       "    <tr style=\"text-align: right;\">\n",
       "      <th></th>\n",
       "      <th>Интервал</th>\n",
       "      <th>Середина интервала</th>\n",
       "      <th>Частота</th>\n",
       "      <th>Относительная частота</th>\n",
       "      <th>Плотность отн.част.</th>\n",
       "    </tr>\n",
       "  </thead>\n",
       "  <tbody>\n",
       "    <tr>\n",
       "      <th>0</th>\n",
       "      <td>54-59</td>\n",
       "      <td>56.5</td>\n",
       "      <td>9</td>\n",
       "      <td>0.09</td>\n",
       "      <td>0.010000</td>\n",
       "    </tr>\n",
       "    <tr>\n",
       "      <th>1</th>\n",
       "      <td>59-64</td>\n",
       "      <td>61.5</td>\n",
       "      <td>10</td>\n",
       "      <td>0.10</td>\n",
       "      <td>0.011111</td>\n",
       "    </tr>\n",
       "    <tr>\n",
       "      <th>2</th>\n",
       "      <td>64-69</td>\n",
       "      <td>66.5</td>\n",
       "      <td>11</td>\n",
       "      <td>0.11</td>\n",
       "      <td>0.012222</td>\n",
       "    </tr>\n",
       "    <tr>\n",
       "      <th>3</th>\n",
       "      <td>69-74</td>\n",
       "      <td>71.5</td>\n",
       "      <td>13</td>\n",
       "      <td>0.13</td>\n",
       "      <td>0.014444</td>\n",
       "    </tr>\n",
       "    <tr>\n",
       "      <th>4</th>\n",
       "      <td>74-79</td>\n",
       "      <td>76.5</td>\n",
       "      <td>15</td>\n",
       "      <td>0.15</td>\n",
       "      <td>0.016667</td>\n",
       "    </tr>\n",
       "    <tr>\n",
       "      <th>5</th>\n",
       "      <td>79-84</td>\n",
       "      <td>81.5</td>\n",
       "      <td>12</td>\n",
       "      <td>0.12</td>\n",
       "      <td>0.013333</td>\n",
       "    </tr>\n",
       "    <tr>\n",
       "      <th>6</th>\n",
       "      <td>84-89</td>\n",
       "      <td>86.5</td>\n",
       "      <td>12</td>\n",
       "      <td>0.12</td>\n",
       "      <td>0.013333</td>\n",
       "    </tr>\n",
       "    <tr>\n",
       "      <th>7</th>\n",
       "      <td>89-94</td>\n",
       "      <td>91.5</td>\n",
       "      <td>11</td>\n",
       "      <td>0.11</td>\n",
       "      <td>0.012222</td>\n",
       "    </tr>\n",
       "    <tr>\n",
       "      <th>8</th>\n",
       "      <td>94-99</td>\n",
       "      <td>96.5</td>\n",
       "      <td>8</td>\n",
       "      <td>0.08</td>\n",
       "      <td>0.008889</td>\n",
       "    </tr>\n",
       "  </tbody>\n",
       "</table>\n",
       "</div>"
      ],
      "text/plain": [
       "  Интервал  Середина интервала  Частота  Относительная частота  \\\n",
       "0    54-59                56.5        9                   0.09   \n",
       "1    59-64                61.5       10                   0.10   \n",
       "2    64-69                66.5       11                   0.11   \n",
       "3    69-74                71.5       13                   0.13   \n",
       "4    74-79                76.5       15                   0.15   \n",
       "5    79-84                81.5       12                   0.12   \n",
       "6    84-89                86.5       12                   0.12   \n",
       "7    89-94                91.5       11                   0.11   \n",
       "8    94-99                96.5        8                   0.08   \n",
       "\n",
       "   Плотность отн.част.  \n",
       "0             0.010000  \n",
       "1             0.011111  \n",
       "2             0.012222  \n",
       "3             0.014444  \n",
       "4             0.016667  \n",
       "5             0.013333  \n",
       "6             0.013333  \n",
       "7             0.012222  \n",
       "8             0.008889  "
      ]
     },
     "execution_count": 5,
     "metadata": {},
     "output_type": "execute_result"
    }
   ],
   "source": [
    "# Найду середины интервалов, частоты интервалов, относительные частоты интервалов и плотности относительных частот\n",
    "intervals_for_df = []\n",
    "xi = []\n",
    "ni = []\n",
    "wi = []\n",
    "count = 0\n",
    "for i in intervals:\n",
    "    intervals_for_df.append(f'{int(i[0])}-{int(i[1])}')\n",
    "    s = 0\n",
    "    xi.append((i[1]+i[0])/2)\n",
    "    for value in values:\n",
    "        if value in range(int(i[0]), int(i[1])+1):\n",
    "            s+=row.count(value)\n",
    "    ni.append(s)\n",
    "    wi = np.array(ni)/len(row)\n",
    "    wi_density = wi/k\n",
    "var_row_i = pd.DataFrame({'Интервал':intervals_for_df, 'Середина интервала':xi, 'Частота':ni, 'Относительная частота':list(wi),\n",
    "                          'Плотность отн.част.':wi_density})\n",
    "var_row_i"
   ]
  },
  {
   "cell_type": "markdown",
   "id": "3f4e98fc",
   "metadata": {},
   "source": [
    "###### Построю полигон частот, гистограмму относительных частот и график эмпирической функции распределения;"
   ]
  },
  {
   "cell_type": "markdown",
   "id": "94a42d28",
   "metadata": {},
   "source": [
    "Полигоном частот называют ломаную, отрезки которой соединяют точки (𝑥𝑖 ,𝑛𝑖). По оси абсцисс откладывают точки 𝑥𝑖 , а по оси ординат соответствующие значения 𝑛𝑖 (частоты). Точки (𝑥𝑖 ,𝑛𝑖) соединяют отрезками прямых."
   ]
  },
  {
   "cell_type": "code",
   "execution_count": 6,
   "id": "753cd1da",
   "metadata": {},
   "outputs": [
    {
     "data": {
      "image/png": "[encoded data removed]",
      "text/plain": [
       "<Figure size 432x288 with 1 Axes>"
      ]
     },
     "metadata": {
      "needs_background": "light"
     },
     "output_type": "display_data"
    }
   ],
   "source": [
    "plt.plot(xi, ni, color='orange', marker='o') #строит полигон частот\n",
    "\n",
    "plt.xlabel('Значение СВ')# добавляем название оси Ох\n",
    "plt.ylabel('Частота')# добавляем название оси Оу\n",
    "plt.title('Полигон частот')# добавляем название графику\n",
    "\n",
    "plt.show()#отображает сюжет"
   ]
  },
  {
   "cell_type": "markdown",
   "id": "a4e177d0",
   "metadata": {},
   "source": [
    "Гистограмма относительных частот – это фигура, состоящая из прямоугольников, ширина которых равна длинам частичных интервалов, а высота – соответствующим плотностям относительных частот"
   ]
  },
  {
   "cell_type": "code",
   "execution_count": 7,
   "id": "f8aa798a",
   "metadata": {},
   "outputs": [
    {
     "data": {
      "image/png": "[encoded data removed]",
      "text/plain": [
       "<Figure size 432x288 with 1 Axes>"
      ]
     },
     "metadata": {
      "needs_background": "light"
     },
     "output_type": "display_data"
    }
   ],
   "source": [
    "var_row_i.plot.bar(x='Середина интервала', y='Плотность отн.част.', color='g', edgecolor='black', width=1)\n",
    "\n",
    "plt.title('Гистограмма относительных частот')\n",
    "plt.xlabel('Значение СВ')\n",
    "plt.ylabel('Плотность относительной частоты')\n",
    "plt.legend(loc=(1, 0.9)) # перемещу легенду, чтобы не закрывала график\n",
    "\n",
    "plt.show()"
   ]
  },
  {
   "cell_type": "markdown",
   "id": "eea006f7",
   "metadata": {},
   "source": [
    "Эмпирической функцией распределения случайной величины (функцией распределения выборки) называют функцию 𝐹∗(𝑥) относительной частоты числа наблюдений: 𝐹*(𝑥)=    \n",
    ">0, 𝑥≤𝑥1    \n",
    "& 𝑛(𝑥)/𝑛, 𝑥1<𝑥≤𝑥(𝑛)    \n",
    "& 1, 𝑥>𝑥(𝑛)    \n",
    "\n",
    "*Вместо полоски фигурная скобка*"
   ]
  },
  {
   "cell_type": "code",
   "execution_count": 8,
   "id": "edf8e1f5",
   "metadata": {},
   "outputs": [],
   "source": [
    "#Найду значения накопленных частот \n",
    "ac_friquency = [wi[0]]\n",
    "i = 0\n",
    "while i != len(wi)-1:\n",
    "    ac_friquency.append(ac_friquency[i]+wi[i+1])\n",
    "    i += 1\n",
    "\n",
    "right_int = []\n",
    "for i in intervals:\n",
    "    right_int.append(i[1])"
   ]
  },
  {
   "cell_type": "code",
   "execution_count": 9,
   "id": "b13d6e7f",
   "metadata": {},
   "outputs": [
    {
     "data": {
      "image/png": "[encoded data removed]",
      "text/plain": [
       "<Figure size 432x288 with 1 Axes>"
      ]
     },
     "metadata": {
      "needs_background": "light"
     },
     "output_type": "display_data"
    }
   ],
   "source": [
    "plt.plot(right_int, ac_friquency, color='r', marker='o') #строит полигон частот\n",
    "\n",
    "plt.xlabel('x')# добавляем название оси Ох\n",
    "plt.ylabel('F(x)')# добавляем название оси Оу\n",
    "plt.title('Эмпирическая функция распределения')# добавляем название графику\n",
    "\n",
    "plt.show()#отображает сюжет"
   ]
  },
  {
   "cell_type": "markdown",
   "id": "59a58fa0",
   "metadata": {},
   "source": [
    "###### Найду числовые характеристики выборки: выборочное среднее и выборочную дисперсию;"
   ]
  },
  {
   "cell_type": "markdown",
   "id": "1b664c30",
   "metadata": {},
   "source": [
    "* Выборочной средней называется среднее арифметическое всех значений выборки\n",
    "* Мода дискретного вариационного ряда – это варианта с максимальной частотой\n",
    "* Медиана  вариационного ряда – это значение, которая делит его на две равные части (по количеству вариант)\n",
    "* Выборочная дисперсия  – это среднее арифметическое квадратов отклонений всех вариант выборки от её средней"
   ]
  },
  {
   "cell_type": "code",
   "execution_count": 26,
   "id": "bbe662a0",
   "metadata": {},
   "outputs": [
    {
     "name": "stdout",
     "output_type": "stream",
     "text": [
      "1.0000000000000002\n",
      "Вариационный ряд: \n"
     ]
    },
    {
     "data": {
      "text/plain": [
       "39.178658990085886"
      ]
     },
     "execution_count": 26,
     "metadata": {},
     "output_type": "execute_result"
    }
   ],
   "source": [
    "l = [82, 30, 98, 116, 80, 150, 200, 88, 70, 90, 150, 100, 86, 76, 90, 140, 76, 68]\n",
    "len(l)\n",
    "statistics.mean(l)\n",
    "sum(l)\n",
    "\n",
    "values = sorted(list(set(l))) #сортирую значения по возрастанию при помощи структуры данных \"множество\"\n",
    "frequency = [l.count(el) for el in values] #нахожу частоту значений \n",
    "len(frequency) == len(values) # True\n",
    "var_row = pd.DataFrame({'x':list(values), 'n':frequency})\n",
    "\n",
    "relative_frequency = np.array(frequency)/len(l)\n",
    "print(sum(relative_frequency))\n",
    "\n",
    "print(\"Вариационный ряд: \") \n",
    "var_row \n",
    "statistics.stdev(l)"
   ]
  },
  {
   "cell_type": "code",
   "execution_count": 10,
   "id": "23aa1f0a",
   "metadata": {},
   "outputs": [
    {
     "name": "stdout",
     "output_type": "stream",
     "text": [
      "Числовые характеристики выборки:\n",
      "    Среднее арифметическое: 76.4\n",
      "    Медиана: 76.5\n",
      "    Мода: 78\n",
      "    Дисперсия: 146.52525252525254\n",
      "    Стандартное отклонение: 12.104761564163606\n"
     ]
    }
   ],
   "source": [
    "print(f'Числовые характеристики выборки:\\n\\\n",
    "    Среднее арифметическое: {statistics.mean(row)}\\n\\\n",
    "    Медиана: {statistics.median(row)}\\n\\\n",
    "    Мода: {statistics.mode(row)}\\n\\\n",
    "    Дисперсия: {statistics.variance(row)}\\n\\\n",
    "    Стандартное отклонение: {statistics.stdev(row)}')"
   ]
  },
  {
   "cell_type": "markdown",
   "id": "e19b36b1",
   "metadata": {},
   "source": [
    "###### Проверю некоторые гипотезы"
   ]
  },
  {
   "cell_type": "markdown",
   "id": "12a8e84a",
   "metadata": {},
   "source": [
    "![Пирсон](https://drive.google.com/uc?export=view&id=1k6AkIYl_ogDADILdR_L_E-seag5BU55Y)\n",
    "Нулевая гипотеза H0: генеральная совокупность, из которой извлечена выборка, имеет нормальное распределение, проверю её, пользуясь критерием Пирсона при уровне значимости α=0,025;"
   ]
  },
  {
   "cell_type": "markdown",
   "id": "a9959861",
   "metadata": {},
   "source": [
    "Входные данные: \n",
    "* объем выборки (len(row))\n",
    "* длина интервала (h)\n",
    "* выборочное среднее (statistics.mean(xi))\n",
    "* дисперсия (statistics.variance(xi))\n",
    "* стандартное отклонение(statistics.stdev(xi))\n",
    "![Пирсон](https://drive.google.com/uc?export=view&id=1Su1DI7eS9SmG3xNOEoEyMf2bN8A4oQkQ)\n"
   ]
  },
  {
   "cell_type": "code",
   "execution_count": 12,
   "id": "4577f4dc",
   "metadata": {},
   "outputs": [
    {
     "data": {
      "text/html": [
       "<div>\n",
       "<style scoped>\n",
       "    .dataframe tbody tr th:only-of-type {\n",
       "        vertical-align: middle;\n",
       "    }\n",
       "\n",
       "    .dataframe tbody tr th {\n",
       "        vertical-align: top;\n",
       "    }\n",
       "\n",
       "    .dataframe thead th {\n",
       "        text-align: right;\n",
       "    }\n",
       "</style>\n",
       "<table border=\"1\" class=\"dataframe\">\n",
       "  <thead>\n",
       "    <tr style=\"text-align: right;\">\n",
       "      <th></th>\n",
       "      <th>Интервал</th>\n",
       "      <th>x</th>\n",
       "      <th>n</th>\n",
       "      <th>z</th>\n",
       "      <th>f(z)</th>\n",
       "      <th>n_t</th>\n",
       "    </tr>\n",
       "  </thead>\n",
       "  <tbody>\n",
       "    <tr>\n",
       "      <th>0</th>\n",
       "      <td>54-59</td>\n",
       "      <td>56.5</td>\n",
       "      <td>9</td>\n",
       "      <td>-1.460593</td>\n",
       "      <td>0.137297</td>\n",
       "      <td>5.013396</td>\n",
       "    </tr>\n",
       "    <tr>\n",
       "      <th>1</th>\n",
       "      <td>59-64</td>\n",
       "      <td>61.5</td>\n",
       "      <td>10</td>\n",
       "      <td>-1.095445</td>\n",
       "      <td>0.218944</td>\n",
       "      <td>7.994711</td>\n",
       "    </tr>\n",
       "    <tr>\n",
       "      <th>2</th>\n",
       "      <td>64-69</td>\n",
       "      <td>66.5</td>\n",
       "      <td>11</td>\n",
       "      <td>-0.730297</td>\n",
       "      <td>0.305561</td>\n",
       "      <td>11.157517</td>\n",
       "    </tr>\n",
       "    <tr>\n",
       "      <th>3</th>\n",
       "      <td>69-74</td>\n",
       "      <td>71.5</td>\n",
       "      <td>13</td>\n",
       "      <td>-0.365148</td>\n",
       "      <td>0.373213</td>\n",
       "      <td>13.627823</td>\n",
       "    </tr>\n",
       "    <tr>\n",
       "      <th>4</th>\n",
       "      <td>74-79</td>\n",
       "      <td>76.5</td>\n",
       "      <td>15</td>\n",
       "      <td>0.000000</td>\n",
       "      <td>0.398942</td>\n",
       "      <td>14.567312</td>\n",
       "    </tr>\n",
       "    <tr>\n",
       "      <th>5</th>\n",
       "      <td>79-84</td>\n",
       "      <td>81.5</td>\n",
       "      <td>12</td>\n",
       "      <td>0.365148</td>\n",
       "      <td>0.373213</td>\n",
       "      <td>13.627823</td>\n",
       "    </tr>\n",
       "    <tr>\n",
       "      <th>6</th>\n",
       "      <td>84-89</td>\n",
       "      <td>86.5</td>\n",
       "      <td>12</td>\n",
       "      <td>0.730297</td>\n",
       "      <td>0.305561</td>\n",
       "      <td>11.157517</td>\n",
       "    </tr>\n",
       "    <tr>\n",
       "      <th>7</th>\n",
       "      <td>89-94</td>\n",
       "      <td>91.5</td>\n",
       "      <td>11</td>\n",
       "      <td>1.095445</td>\n",
       "      <td>0.218944</td>\n",
       "      <td>7.994711</td>\n",
       "    </tr>\n",
       "    <tr>\n",
       "      <th>8</th>\n",
       "      <td>94-99</td>\n",
       "      <td>96.5</td>\n",
       "      <td>8</td>\n",
       "      <td>1.460593</td>\n",
       "      <td>0.137297</td>\n",
       "      <td>5.013396</td>\n",
       "    </tr>\n",
       "  </tbody>\n",
       "</table>\n",
       "</div>"
      ],
      "text/plain": [
       "  Интервал     x   n         z      f(z)        n_t\n",
       "0    54-59  56.5   9 -1.460593  0.137297   5.013396\n",
       "1    59-64  61.5  10 -1.095445  0.218944   7.994711\n",
       "2    64-69  66.5  11 -0.730297  0.305561  11.157517\n",
       "3    69-74  71.5  13 -0.365148  0.373213  13.627823\n",
       "4    74-79  76.5  15  0.000000  0.398942  14.567312\n",
       "5    79-84  81.5  12  0.365148  0.373213  13.627823\n",
       "6    84-89  86.5  12  0.730297  0.305561  11.157517\n",
       "7    89-94  91.5  11  1.095445  0.218944   7.994711\n",
       "8    94-99  96.5   8  1.460593  0.137297   5.013396"
      ]
     },
     "execution_count": 12,
     "metadata": {},
     "output_type": "execute_result"
    }
   ],
   "source": [
    "zi = []\n",
    "fz_i = []\n",
    "n_i_t = []\n",
    "\n",
    "for x in xi:\n",
    "    zi.append((x-statistics.mean(xi))/statistics.stdev(xi))\n",
    "for z in zi:\n",
    "    fz_i.append((1/math.sqrt(2.0*np.pi))*np.exp(-0.5*(z)**2))\n",
    "for f in fz_i:\n",
    "    n_i_t.append(((h*len(row)/statistics.stdev(xi))*f))\n",
    "hyp_df = pd.DataFrame({'Интервал':intervals_for_df, 'x':xi, 'n':ni, 'z':zi, 'f(z)':fz_i, 'n_t':n_i_t})\n",
    "hyp_df"
   ]
  },
  {
   "cell_type": "code",
   "execution_count": 13,
   "id": "cef58bdb",
   "metadata": {},
   "outputs": [
    {
     "data": {
      "image/png": "[encoded data removed]",
      "text/plain": [
       "<Figure size 432x288 with 1 Axes>"
      ]
     },
     "metadata": {
      "needs_background": "light"
     },
     "output_type": "display_data"
    }
   ],
   "source": [
    "plt.bar(hyp_df['x'], hyp_df['n'], color='b', edgecolor='black', width=5)\n",
    "\n",
    "plt.title('Эмпирическая гистограмма и теоретическая кривая')\n",
    "plt.xlabel('Значение СВ')\n",
    "plt.ylabel('Частота')\n",
    "\n",
    "plt.plot(xi, n_i_t, 'r-', marker='o', label=\"теоретическая кривая\")\n",
    "plt.legend(loc=(1, 0.9)) # перемещу легенду, чтобы не закрывала график\n",
    "\n",
    "plt.show()"
   ]
  },
  {
   "cell_type": "markdown",
   "id": "29d7830e",
   "metadata": {},
   "source": [
    "![Кз](https://drive.google.com/uc?export=view&id=15brADJQHM_vXYy1lEi66cbBERFkfnHv_)"
   ]
  },
  {
   "cell_type": "markdown",
   "id": "8a2d3b47",
   "metadata": {},
   "source": [
    "Критическое значение критерия согласия Пирсона составляет 14.4"
   ]
  },
  {
   "cell_type": "markdown",
   "id": "bd0cf20b",
   "metadata": {},
   "source": [
    "Вычислю наблюдаемое значение критерия"
   ]
  },
  {
   "cell_type": "code",
   "execution_count": 14,
   "id": "b0c0eebc",
   "metadata": {},
   "outputs": [
    {
     "name": "stdout",
     "output_type": "stream",
     "text": [
      "Критическое значение критерия согласия Пирсона составляет 14.4 \n",
      "Наблюдаемое значение критерия согласия Пирсона составляет 6.884056270437589\n",
      "Принять гипотезу о нормальности\n"
     ]
    }
   ],
   "source": [
    "max_pearson_value = 14.4\n",
    "pearson_value = 0\n",
    "for c in range(9):\n",
    "    pearson_value += ((ni[c]-n_i_t[c])**2)/n_i_t[c]\n",
    "print(f'Критическое значение критерия согласия Пирсона составляет {max_pearson_value} \\n\\\n",
    "Наблюдаемое значение критерия согласия Пирсона составляет {pearson_value}')\n",
    "if max_pearson_value > pearson_value:\n",
    "    print('Принять гипотезу о нормальности')\n",
    "else:\n",
    "    print('Отклонить гипотезу о нормальности')"
   ]
  },
  {
   "cell_type": "markdown",
   "id": "2c746b3a",
   "metadata": {},
   "source": [
    "**Значит, на уровне значимости 0.025 гипотезу  о нормальном распределении H0 принимаем**"
   ]
  },
  {
   "cell_type": "markdown",
   "id": "8af88499",
   "metadata": {},
   "source": [
    "Теперь воспользуюсь пакетом scipy, чтобы подтвердить верность своих вычислений"
   ]
  },
  {
   "cell_type": "code",
   "execution_count": 15,
   "id": "95b81021",
   "metadata": {},
   "outputs": [
    {
     "name": "stdout",
     "output_type": "stream",
     "text": [
      "Statistics=1.861, p-value=0.394\n",
      "Принять гипотезу о нормальности\n"
     ]
    },
    {
     "name": "stderr",
     "output_type": "stream",
     "text": [
      "D:\\DS_IT\\Anaconda\\lib\\site-packages\\scipy\\stats\\stats.py:1603: UserWarning: kurtosistest only valid for n>=20 ... continuing anyway, n=9\n",
      "  warnings.warn(\"kurtosistest only valid for n>=20 ... continuing \"\n"
     ]
    }
   ],
   "source": [
    "stat, p = scipy.stats.normaltest(xi)\n",
    "print('Statistics=%.3f, p-value=%.3f' % (stat, p))\n",
    "alpha = 0.025\n",
    "if p > alpha:\n",
    "    print('Принять гипотезу о нормальности')\n",
    "else:\n",
    "    print('Отклонить гипотезу о нормальности')"
   ]
  },
  {
   "cell_type": "markdown",
   "id": "7f202c83",
   "metadata": {},
   "source": [
    "###### Найду доверительный интервал для математического ожидания при надежности p=0,9."
   ]
  },
  {
   "cell_type": "markdown",
   "id": "6b34df8e",
   "metadata": {},
   "source": [
    "![Точность оценки](https://drive.google.com/uc?export=view&id=1jM2OoF97e4A2KXpPIcdw0Dk6tHNjbTLZ)\n",
    "Коэффициент доверия отыскивается из соотношения, где Ф(х) - функция Лапласа![Коэф доверия](https://drive.google.com/uc?export=view&id=1njsTx2BJImAhUwh_Mn84RxXgP7YyetEH)"
   ]
  },
  {
   "cell_type": "code",
   "execution_count": 16,
   "id": "a510128e",
   "metadata": {},
   "outputs": [
    {
     "name": "stdout",
     "output_type": "stream",
     "text": [
      "Доверительный интервал для математического ожидания: (74.40271434191301;78.397285658087)\n"
     ]
    }
   ],
   "source": [
    "y = 0.9\n",
    "# Ф(t) = 0.45\n",
    "t = 1.65\n",
    "accuracy = t*statistics.stdev(row)/(math.sqrt(len(row)))\n",
    "print(f'Доверительный интервал для математического ожидания: ({statistics.mean(row)-accuracy};{statistics.mean(row)+accuracy})')"
   ]
  },
  {
   "cell_type": "markdown",
   "id": "f6003c4c",
   "metadata": {},
   "source": [
    "###### Найду доверительный интервал для среднего квадратичного отклонения при надежности p=0,9."
   ]
  },
  {
   "cell_type": "markdown",
   "id": "286b4865",
   "metadata": {},
   "source": [
    "Интервал для оценки среднего квадратичного отклонения:"
   ]
  },
  {
   "cell_type": "markdown",
   "id": "a701db21",
   "metadata": {},
   "source": [
    "![Инт_стд](https://drive.google.com/uc?export=view&id=11ZJLUrqPa3rI6wkHBGR-StM5ZcDWOcLX)"
   ]
  },
  {
   "cell_type": "markdown",
   "id": "20f4d25f",
   "metadata": {},
   "source": [
    "Так как наша выборка имеет объем 100 > 30, то можно воспользоваться приближенной формулой"
   ]
  },
  {
   "cell_type": "markdown",
   "id": "59856887",
   "metadata": {},
   "source": [
    "![Инт_стд2](https://drive.google.com/uc?export=view&id=12OtMOY8-zLhkaTcyLiuCntwOiRLYM-3j)"
   ]
  },
  {
   "cell_type": "code",
   "execution_count": 17,
   "id": "64964e9c",
   "metadata": {},
   "outputs": [
    {
     "name": "stdout",
     "output_type": "stream",
     "text": [
      "Доверительный интервал для реднего квадратичного отклонения: (10.913604092778062;13.821391629265717)\n"
     ]
    }
   ],
   "source": [
    "print(f'Доверительный интервал для реднего квадратичного отклонения: \\\n",
    "({statistics.stdev(row)*(math.sqrt(2*len(row)))/(math.sqrt(2*len(row)-3)+t)};\\\n",
    "{statistics.stdev(row)*(math.sqrt(2*len(row)))/(math.sqrt(2*len(row)-3)-t)})')"
   ]
  },
  {
   "cell_type": "markdown",
   "id": "bed16a00",
   "metadata": {},
   "source": [
    "### №2"
   ]
  },
  {
   "cell_type": "markdown",
   "id": "ebe88d22",
   "metadata": {},
   "source": [
    "В результате эксперимента получены статистические данные, представленные в виде корреляционной таблицы.\n"
   ]
  },
  {
   "cell_type": "markdown",
   "id": "9f687c6a",
   "metadata": {},
   "source": [
    "![Таблица2](https://drive.google.com/uc?export=view&id=1ZsdMZG-VsFR1PjNlqpiai2IQ5rA3qYLE)"
   ]
  },
  {
   "cell_type": "markdown",
   "id": "e599ef1a",
   "metadata": {},
   "source": [
    "##### Найду уравнение прямой регрессии y на x"
   ]
  },
  {
   "cell_type": "code",
   "execution_count": 85,
   "id": "53c301a1",
   "metadata": {},
   "outputs": [
    {
     "data": {
      "text/plain": [
       "True"
      ]
     },
     "execution_count": 85,
     "metadata": {},
     "output_type": "execute_result"
    }
   ],
   "source": [
    "x = np.array([250, 450, 650, 850, 1050, 1250]) #Признак фактор X и его категории\n",
    "m_x = np.array([12, 16, 28, 20, 16, 8]) #Cуммы частот по строкам (по группам признака-фактора)\n",
    "y = np.array([0.2, 0.4, 0.6, 0.8, 1.0, 1.2, 1.4, 1.6]) #Признак фактор Y и его категории\n",
    "m_y = np.array([3, 10, 7, 19, 27, 22, 9, 3]) #Cуммы частот по столбцам (по категориям признака-результата)\n",
    "n = 100 #Объем совокупности\n",
    "# В переменной matrix содержатся результаты группировки - совместные групповые частоты\n",
    "matrix = np.array([[3, 4, 5, np.nan, np.nan, np.nan, np.nan, np.nan],\n",
    "                   [np.nan, 6, 2, 8, np.nan, np.nan, np.nan, np.nan],\n",
    "                   [np.nan, np.nan, np.nan, 5, 14, 9, np.nan, np.nan],\n",
    "                   [np.nan, np.nan, np.nan, 6, 8, 6, np.nan, np.nan],\n",
    "                   [np.nan, np.nan, np.nan, np.nan, 5, 7, 4, np.nan],\n",
    "                   [np.nan, np.nan, np.nan, np.nan, np.nan, np.nan, 5, 3]])\n",
    "#Сумма всех групповых частот равна объёму статистической совокупности. Проверим.\n",
    "np.sum(m_x)==np.sum(m_y) #True\n",
    "np.nansum(matrix) == np.sum(m_x) #True"
   ]
  },
  {
   "cell_type": "markdown",
   "id": "f82995e3",
   "metadata": {},
   "source": [
    "Частоты имеют тенденцию располагаться по диагонали от левого верхнего до правого нижнего угла, то между признаками существует прямая корреляционная зависимость («чем больше, тем больше»)."
   ]
  },
  {
   "cell_type": "markdown",
   "id": "2d195ce0",
   "metadata": {},
   "source": [
    "![Ур.регрессии](https://drive.google.com/uc?export=view&id=1oDCqczBBR3dPKaet5WH33A_LVRXHmS5R)"
   ]
  },
  {
   "cell_type": "code",
   "execution_count": 114,
   "id": "7e27b0fd",
   "metadata": {},
   "outputs": [],
   "source": [
    "#Выборочные средние\n",
    "x_mean = sum(m_x*x)/n\n",
    "y_mean = sum(y*m_y)/n\n",
    "\n",
    "# Для того, чтобы не запутаться, разобью формулу для выборочной дисперсии на части\n",
    "a = 1/(n-1)\n",
    "bx = np.sum(m_x*x*x)\n",
    "by = np.sum(m_y*y*y)\n",
    "c = 1/n\n",
    "dx = np.sum(m_x*x)\n",
    "dy = np.sum(m_y*y)\n",
    "\n",
    "sx2 = a*(bx-(c*dx*dx))\n",
    "sy2 = a*(by-(c*dy*dy))\n",
    "\n",
    "#Корреляционный момент\n",
    "e = np.nansum(y*((x*matrix.T).T))\n",
    "sxy = a*(e-c*np.sum(m_x*x)*np.sum(m_y*y))\n",
    "\n",
    "#Коэффициент корреляции\n",
    "\n",
    "r = sxy/(math.sqrt(sx2)*math.sqrt(sy2))"
   ]
  },
  {
   "cell_type": "markdown",
   "id": "dc491049",
   "metadata": {},
   "source": [
    "На основе полученных характеристик найду уравнение эмпирической линии регрессии"
   ]
  },
  {
   "cell_type": "code",
   "execution_count": 116,
   "id": "4db607c3",
   "metadata": {},
   "outputs": [
    {
     "name": "stdout",
     "output_type": "stream",
     "text": [
      "Уравнение эмпирической линии регрессии: y = 0.2702183153013902 + 0.0009387557959814539*x\n"
     ]
    }
   ],
   "source": [
    "#y = y_mean + r * (math.sqrt(sy2)/math.sqrt(sx2))*(x-x_mean)\n",
    "first_step = r * (math.sqrt(sy2)/math.sqrt(sx2))\n",
    "second_step = y_mean - first_step*x_mean\n",
    "print(f'Уравнение эмпирической линии регрессии: y = {second_step} + {first_step}*x')"
   ]
  },
  {
   "cell_type": "markdown",
   "id": "fb046742",
   "metadata": {},
   "source": [
    "##### Построю уравнение эмпирической линии регрессии и случайные точки выборки (X,Y)"
   ]
  },
  {
   "cell_type": "code",
   "execution_count": 145,
   "id": "f393a2ec",
   "metadata": {},
   "outputs": [
    {
     "data": {
      "text/plain": [
       "<matplotlib.collections.PathCollection at 0x231e46a8b50>"
      ]
     },
     "execution_count": 145,
     "metadata": {},
     "output_type": "execute_result"
    },
    {
     "data": {
      "image/png": "[encoded data removed]",
      "text/plain": [
       "<Figure size 432x288 with 1 Axes>"
      ]
     },
     "metadata": {
      "needs_background": "light"
     },
     "output_type": "display_data"
    }
   ],
   "source": [
    "#Случайные точки выборки:\n",
    "d_x = np.array([250, 250, 250, 450, 450, 450, 650, 650, 650, 850, 850, 850, 1050, 1050, 1050, 1250, 1250])\n",
    "d_y = [3, 4, 5, 6, 2, 8, 9, 14, 5, 6, 8, 6, 5, 7, 4, 5, 3]\n",
    "\n",
    "y = 0.2702183153013902 + 0.0009387557959814539*d_x #уравнение\n",
    "\n",
    "plt.plot(d_x, y, marker='o', c='black')\n",
    "plt.scatter(d_x, d_y, c='b')"
   ]
  }
 ],
 "metadata": {
  "kernelspec": {
   "display_name": "Python 3",
   "language": "python",
   "name": "python3"
  },
  "language_info": {
   "codemirror_mode": {
    "name": "ipython",
    "version": 3
   },
   "file_extension": ".py",
   "mimetype": "text/x-python",
   "name": "python",
   "nbconvert_exporter": "python",
   "pygments_lexer": "ipython3",
   "version": "3.8.5"
  }
 },
 "nbformat": 4,
 "nbformat_minor": 5
}
